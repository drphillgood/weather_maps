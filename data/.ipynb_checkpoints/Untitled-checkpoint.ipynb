{
 "cells": [
  {
   "cell_type": "code",
   "execution_count": null,
   "metadata": {},
   "outputs": [
    {
     "name": "stderr",
     "output_type": "stream",
     "text": [
      "2020-06-11 06:22:07,309 INFO Welcome to the CDS\n",
      "2020-06-11 06:22:07,314 INFO Sending request to https://cds.climate.copernicus.eu/api/v2/resources/seasonal-postprocessed-single-levels\n",
      "2020-06-11 06:22:07,970 INFO Request is queued\n"
     ]
    }
   ],
   "source": [
    "import cdsapi\n",
    "\n",
    "c = cdsapi.Client()\n",
    "\n",
    "c.retrieve(\n",
    "    'seasonal-postprocessed-single-levels',\n",
    "    {\n",
    "        'format': 'netcdf',\n",
    "        'originating_centre': 'ecmwf',\n",
    "        'variable': 'total_precipitation_anomalous_rate_of_accumulation',\n",
    "        'product_type': 'ensemble_mean',\n",
    "        'year': '2020',\n",
    "        'month': '05',\n",
    "        'leadtime_month': '3',\n",
    "        'system': '5',\n",
    "    },\n",
    "    'ecmwf_data.nc')"
   ]
  }
 ],
 "metadata": {
  "kernelspec": {
   "display_name": "Python 3",
   "language": "python",
   "name": "python3"
  },
  "language_info": {
   "codemirror_mode": {
    "name": "ipython",
    "version": 3
   },
   "file_extension": ".py",
   "mimetype": "text/x-python",
   "name": "python",
   "nbconvert_exporter": "python",
   "pygments_lexer": "ipython3",
   "version": "3.7.6"
  }
 },
 "nbformat": 4,
 "nbformat_minor": 4
}
