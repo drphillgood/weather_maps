{
 "cells": [
  {
   "cell_type": "code",
   "execution_count": 1,
   "metadata": {},
   "outputs": [
    {
     "name": "stderr",
     "output_type": "stream",
     "text": [
      "2020-06-11 06:24:30,233 INFO Welcome to the CDS\n",
      "2020-06-11 06:24:30,237 INFO Sending request to https://cds.climate.copernicus.eu/api/v2/resources/seasonal-postprocessed-single-levels\n",
      "2020-06-11 06:24:30,862 INFO Request is queued\n",
      "2020-06-11 06:24:39,649 INFO Request is completed\n",
      "2020-06-11 06:24:39,652 INFO Downloading http://136.156.133.39/cache-compute-0012/cache/data2/adaptor.mars.external-1591871077.7747228-12911-3-ffbbd071-b010-4521-b042-d9784b3d5e34.nc to ecmwf_data.nc (130.5K)\n",
      "2020-06-11 06:24:40,330 INFO Download rate 192.6K/s                                                                    \n"
     ]
    },
    {
     "data": {
      "text/plain": [
       "Result(content_length=133592,content_type=application/x-netcdf,location=http://136.156.133.39/cache-compute-0012/cache/data2/adaptor.mars.external-1591871077.7747228-12911-3-ffbbd071-b010-4521-b042-d9784b3d5e34.nc)"
      ]
     },
     "execution_count": 1,
     "metadata": {},
     "output_type": "execute_result"
    }
   ],
   "source": [
    "import cdsapi\n",
    "\n",
    "c = cdsapi.Client()\n",
    "\n",
    "c.retrieve(\n",
    "    'seasonal-postprocessed-single-levels',\n",
    "    {\n",
    "        'format': 'netcdf',\n",
    "        'originating_centre': 'ecmwf',\n",
    "        'variable': 'total_precipitation_anomalous_rate_of_accumulation',\n",
    "        'product_type': 'ensemble_mean',\n",
    "        'year': '2020',\n",
    "        'month': '05',\n",
    "        'leadtime_month': '3',\n",
    "        'system': '5',\n",
    "    },\n",
    "    'ecmwf_data.nc')"
   ]
  }
 ],
 "metadata": {
  "kernelspec": {
   "display_name": "Python 3",
   "language": "python",
   "name": "python3"
  },
  "language_info": {
   "codemirror_mode": {
    "name": "ipython",
    "version": 3
   },
   "file_extension": ".py",
   "mimetype": "text/x-python",
   "name": "python",
   "nbconvert_exporter": "python",
   "pygments_lexer": "ipython3",
   "version": "3.7.6"
  }
 },
 "nbformat": 4,
 "nbformat_minor": 4
}
