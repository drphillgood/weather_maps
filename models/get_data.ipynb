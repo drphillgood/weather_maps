{
 "cells": [
  {
   "cell_type": "code",
   "execution_count": 2,
   "metadata": {},
   "outputs": [
    {
     "name": "stderr",
     "output_type": "stream",
     "text": [
      "2020-06-15 02:52:17,935 INFO Welcome to the CDS\n",
      "2020-06-15 02:52:17,936 INFO Sending request to https://cds.climate.copernicus.eu/api/v2/resources/seasonal-postprocessed-single-levels\n",
      "2020-06-15 02:52:18,678 INFO Request is completed\n",
      "2020-06-15 02:52:18,679 INFO Downloading http://136.156.133.25/cache-compute-0008/cache/data6/adaptor.mars.external-1592124137.2383606-19581-21-9089d05e-7702-42ae-a71e-c96f05ca4f76.nc to meteo_precip_mayfc_jas.nc (382.9K)\n",
      "2020-06-15 02:52:19,555 INFO Download rate 437.7K/s                                                                    \n"
     ]
    },
    {
     "data": {
      "text/plain": [
       "Result(content_length=392076,content_type=application/x-netcdf,location=http://136.156.133.25/cache-compute-0008/cache/data6/adaptor.mars.external-1592124137.2383606-19581-21-9089d05e-7702-42ae-a71e-c96f05ca4f76.nc)"
      ]
     },
     "execution_count": 2,
     "metadata": {},
     "output_type": "execute_result"
    }
   ],
   "source": [
    "import cdsapi\n",
    "\n",
    "c = cdsapi.Client()\n",
    "\n",
    "c.retrieve(\n",
    "    'seasonal-postprocessed-single-levels',\n",
    "    {\n",
    "        'originating_centre': 'meteo_france',\n",
    "        'system': '7',\n",
    "        'variable': 'total_precipitation_anomalous_rate_of_accumulation',\n",
    "        'product_type': 'ensemble_mean',\n",
    "        'year': '2020',\n",
    "        'month': '05',\n",
    "        'leadtime_month': [\n",
    "            '3', '4', '5',\n",
    "        ],\n",
    "        'format': 'netcdf',\n",
    "    },\n",
    "    'meteo_precip_mayfc_jas.nc')"
   ]
  },
  {
   "cell_type": "code",
   "execution_count": null,
   "metadata": {},
   "outputs": [],
   "source": []
  },
  {
   "cell_type": "code",
   "execution_count": null,
   "metadata": {},
   "outputs": [],
   "source": []
  }
 ],
 "metadata": {
  "kernelspec": {
   "display_name": "Python 3",
   "language": "python",
   "name": "python3"
  },
  "language_info": {
   "codemirror_mode": {
    "name": "ipython",
    "version": 3
   },
   "file_extension": ".py",
   "mimetype": "text/x-python",
   "name": "python",
   "nbconvert_exporter": "python",
   "pygments_lexer": "ipython3",
   "version": "3.7.6"
  }
 },
 "nbformat": 4,
 "nbformat_minor": 4
}
