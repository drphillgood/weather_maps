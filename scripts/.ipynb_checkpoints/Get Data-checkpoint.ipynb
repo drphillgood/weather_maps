{
 "cells": [
  {
   "cell_type": "code",
   "execution_count": null,
   "metadata": {},
   "outputs": [],
   "source": [
    "import cdsapi\n",
    "\n",
    "c = cdsapi.Client()\n",
    "\n",
    "c.retrieve(\n",
    "    'seasonal-postprocessed-single-levels',\n",
    "    {\n",
    "        'originating_centre': 'ecmwf',\n",
    "        'system': '5',\n",
    "        'variable': 'total_precipitation_anomalous_rate_of_accumulation',\n",
    "        'product_type': 'ensemble_mean',\n",
    "        'year': '2020',\n",
    "        'month': '05',\n",
    "        'leadtime_month': '3',\n",
    "        'format': 'netcdf',\n",
    "    },\n",
    "    'download.netcdf')"
   ]
  }
 ],
 "metadata": {
  "kernelspec": {
   "display_name": "Python 3",
   "language": "python",
   "name": "python3"
  },
  "language_info": {
   "codemirror_mode": {
    "name": "ipython",
    "version": 3
   },
   "file_extension": ".py",
   "mimetype": "text/x-python",
   "name": "python",
   "nbconvert_exporter": "python",
   "pygments_lexer": "ipython3",
   "version": "3.7.6"
  }
 },
 "nbformat": 4,
 "nbformat_minor": 4
}
