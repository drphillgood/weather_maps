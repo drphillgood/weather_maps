{
 "cells": [
  {
   "cell_type": "code",
   "execution_count": 2,
   "metadata": {},
   "outputs": [
    {
     "name": "stderr",
     "output_type": "stream",
     "text": [
      "2020-06-12 08:01:24,647 INFO Welcome to the CDS\n",
      "2020-06-12 08:01:24,648 INFO Sending request to https://cds.climate.copernicus.eu/api/v2/resources/seasonal-postprocessed-single-levels\n",
      "2020-06-12 08:01:26,117 INFO Request is queued\n",
      "2020-06-12 08:04:18,674 INFO Request is failed\n",
      "2020-06-12 08:04:18,675 ERROR Message: the request you have submitted is not valid\n",
      "2020-06-12 08:04:18,676 ERROR Reason:  Mars server task finished in error - UserError: Restricted access to current C3S seasonal forecast. Please check that your date selection is valid. For more information, visit https://climate.copernicus.eu/seasonal-forecasts [ecmwf] - Error code is -2 - Request failed - Some errors reported\n",
      "2020-06-12 08:04:18,677 ERROR   Traceback (most recent call last):\n",
      "2020-06-12 08:04:18,678 ERROR     File \"/opt/cdstoolbox/cdscompute/cdscompute/cdshandlers/services/handler.py\", line 49, in handle_request\n",
      "2020-06-12 08:04:18,679 ERROR       result = cached(context.method, proc, context, context.args, context.kwargs)\n",
      "2020-06-12 08:04:18,681 ERROR     File \"/opt/cdstoolbox/cdscompute/cdscompute/caching.py\", line 108, in cached\n",
      "2020-06-12 08:04:18,682 ERROR       result = proc(context, *context.args, **context.kwargs)\n",
      "2020-06-12 08:04:18,683 ERROR     File \"/opt/cdstoolbox/cdscompute/cdscompute/services.py\", line 118, in __call__\n",
      "2020-06-12 08:04:18,684 ERROR       return p(*args, **kwargs)\n",
      "2020-06-12 08:04:18,685 ERROR     File \"/opt/cdstoolbox/cdscompute/cdscompute/services.py\", line 59, in __call__\n",
      "2020-06-12 08:04:18,686 ERROR       return self.proc(context, *args, **kwargs)\n",
      "2020-06-12 08:04:18,687 ERROR     File \"/home/cds/cdsservices/services/mars.py\", line 352, in external\n",
      "2020-06-12 08:04:18,688 ERROR       return mars(context, request, **kwargs)\n",
      "2020-06-12 08:04:18,689 ERROR     File \"/home/cds/cdsservices/services/mars.py\", line 48, in mars\n",
      "2020-06-12 08:04:18,690 ERROR       execute_mars(context, requests)\n",
      "2020-06-12 08:04:18,691 ERROR     File \"/home/cds/cdsservices/services/mars.py\", line 192, in execute_mars\n",
      "2020-06-12 08:04:18,692 ERROR       context.run_command(\"/usr/local/bin/mars\", tmp, exception=MarsException)\n",
      "2020-06-12 08:04:18,694 ERROR     File \"/opt/cdstoolbox/cdscompute/cdscompute/context.py\", line 170, in run_command\n",
      "2020-06-12 08:04:18,694 ERROR       raise exception(call, proc.returncode, output)\n",
      "2020-06-12 08:04:18,695 ERROR   home.cds.cdsservices.services.mars.py.MarsException: Mars server task finished in error - UserError: Restricted access to current C3S seasonal forecast. Please check that your date selection is valid. For more information, visit https://climate.copernicus.eu/seasonal-forecasts [ecmwf] - Error code is -2 - Request failed - Some errors reported\n"
     ]
    },
    {
     "ename": "Exception",
     "evalue": "the request you have submitted is not valid. Mars server task finished in error - UserError: Restricted access to current C3S seasonal forecast. Please check that your date selection is valid. For more information, visit https://climate.copernicus.eu/seasonal-forecasts [ecmwf] - Error code is -2 - Request failed - Some errors reported.",
     "output_type": "error",
     "traceback": [
      "\u001b[1;31m---------------------------------------------------------------------------\u001b[0m",
      "\u001b[1;31mException\u001b[0m                                 Traceback (most recent call last)",
      "\u001b[1;32m<ipython-input-2-4da075bcc682>\u001b[0m in \u001b[0;36m<module>\u001b[1;34m\u001b[0m\n\u001b[0;32m     15\u001b[0m         \u001b[1;34m'format'\u001b[0m\u001b[1;33m:\u001b[0m\u001b[1;34m'netcdf'\u001b[0m\u001b[1;33m\u001b[0m\u001b[1;33m\u001b[0m\u001b[0m\n\u001b[0;32m     16\u001b[0m     },\n\u001b[1;32m---> 17\u001b[1;33m     '../../data/sst.nc')\n\u001b[0m",
      "\u001b[1;32mC:\\ProgramData\\Anaconda3\\lib\\site-packages\\cdsapi\\api.py\u001b[0m in \u001b[0;36mretrieve\u001b[1;34m(self, name, request, target)\u001b[0m\n\u001b[0;32m    315\u001b[0m \u001b[1;33m\u001b[0m\u001b[0m\n\u001b[0;32m    316\u001b[0m     \u001b[1;32mdef\u001b[0m \u001b[0mretrieve\u001b[0m\u001b[1;33m(\u001b[0m\u001b[0mself\u001b[0m\u001b[1;33m,\u001b[0m \u001b[0mname\u001b[0m\u001b[1;33m,\u001b[0m \u001b[0mrequest\u001b[0m\u001b[1;33m,\u001b[0m \u001b[0mtarget\u001b[0m\u001b[1;33m=\u001b[0m\u001b[1;32mNone\u001b[0m\u001b[1;33m)\u001b[0m\u001b[1;33m:\u001b[0m\u001b[1;33m\u001b[0m\u001b[1;33m\u001b[0m\u001b[0m\n\u001b[1;32m--> 317\u001b[1;33m         \u001b[0mresult\u001b[0m \u001b[1;33m=\u001b[0m \u001b[0mself\u001b[0m\u001b[1;33m.\u001b[0m\u001b[0m_api\u001b[0m\u001b[1;33m(\u001b[0m\u001b[1;34m'%s/resources/%s'\u001b[0m \u001b[1;33m%\u001b[0m \u001b[1;33m(\u001b[0m\u001b[0mself\u001b[0m\u001b[1;33m.\u001b[0m\u001b[0murl\u001b[0m\u001b[1;33m,\u001b[0m \u001b[0mname\u001b[0m\u001b[1;33m)\u001b[0m\u001b[1;33m,\u001b[0m \u001b[0mrequest\u001b[0m\u001b[1;33m,\u001b[0m \u001b[1;34m'POST'\u001b[0m\u001b[1;33m)\u001b[0m\u001b[1;33m\u001b[0m\u001b[1;33m\u001b[0m\u001b[0m\n\u001b[0m\u001b[0;32m    318\u001b[0m         \u001b[1;32mif\u001b[0m \u001b[0mtarget\u001b[0m \u001b[1;32mis\u001b[0m \u001b[1;32mnot\u001b[0m \u001b[1;32mNone\u001b[0m\u001b[1;33m:\u001b[0m\u001b[1;33m\u001b[0m\u001b[1;33m\u001b[0m\u001b[0m\n\u001b[0;32m    319\u001b[0m             \u001b[0mresult\u001b[0m\u001b[1;33m.\u001b[0m\u001b[0mdownload\u001b[0m\u001b[1;33m(\u001b[0m\u001b[0mtarget\u001b[0m\u001b[1;33m)\u001b[0m\u001b[1;33m\u001b[0m\u001b[1;33m\u001b[0m\u001b[0m\n",
      "\u001b[1;32mC:\\ProgramData\\Anaconda3\\lib\\site-packages\\cdsapi\\api.py\u001b[0m in \u001b[0;36m_api\u001b[1;34m(self, url, request, method)\u001b[0m\n\u001b[0;32m    456\u001b[0m                         \u001b[1;32mbreak\u001b[0m\u001b[1;33m\u001b[0m\u001b[1;33m\u001b[0m\u001b[0m\n\u001b[0;32m    457\u001b[0m                     \u001b[0mself\u001b[0m\u001b[1;33m.\u001b[0m\u001b[0merror\u001b[0m\u001b[1;33m(\u001b[0m\u001b[1;34m\"  %s\"\u001b[0m\u001b[1;33m,\u001b[0m \u001b[0mn\u001b[0m\u001b[1;33m)\u001b[0m\u001b[1;33m\u001b[0m\u001b[1;33m\u001b[0m\u001b[0m\n\u001b[1;32m--> 458\u001b[1;33m                 \u001b[1;32mraise\u001b[0m \u001b[0mException\u001b[0m\u001b[1;33m(\u001b[0m\u001b[1;34m\"%s. %s.\"\u001b[0m \u001b[1;33m%\u001b[0m \u001b[1;33m(\u001b[0m\u001b[0mreply\u001b[0m\u001b[1;33m[\u001b[0m\u001b[1;34m'error'\u001b[0m\u001b[1;33m]\u001b[0m\u001b[1;33m.\u001b[0m\u001b[0mget\u001b[0m\u001b[1;33m(\u001b[0m\u001b[1;34m'message'\u001b[0m\u001b[1;33m)\u001b[0m\u001b[1;33m,\u001b[0m \u001b[0mreply\u001b[0m\u001b[1;33m[\u001b[0m\u001b[1;34m'error'\u001b[0m\u001b[1;33m]\u001b[0m\u001b[1;33m.\u001b[0m\u001b[0mget\u001b[0m\u001b[1;33m(\u001b[0m\u001b[1;34m'reason'\u001b[0m\u001b[1;33m)\u001b[0m\u001b[1;33m)\u001b[0m\u001b[1;33m)\u001b[0m\u001b[1;33m\u001b[0m\u001b[1;33m\u001b[0m\u001b[0m\n\u001b[0m\u001b[0;32m    459\u001b[0m \u001b[1;33m\u001b[0m\u001b[0m\n\u001b[0;32m    460\u001b[0m             \u001b[1;32mraise\u001b[0m \u001b[0mException\u001b[0m\u001b[1;33m(\u001b[0m\u001b[1;34m'Unknown API state [%s]'\u001b[0m \u001b[1;33m%\u001b[0m \u001b[1;33m(\u001b[0m\u001b[0mreply\u001b[0m\u001b[1;33m[\u001b[0m\u001b[1;34m'state'\u001b[0m\u001b[1;33m]\u001b[0m\u001b[1;33m,\u001b[0m\u001b[1;33m)\u001b[0m\u001b[1;33m)\u001b[0m\u001b[1;33m\u001b[0m\u001b[1;33m\u001b[0m\u001b[0m\n",
      "\u001b[1;31mException\u001b[0m: the request you have submitted is not valid. Mars server task finished in error - UserError: Restricted access to current C3S seasonal forecast. Please check that your date selection is valid. For more information, visit https://climate.copernicus.eu/seasonal-forecasts [ecmwf] - Error code is -2 - Request failed - Some errors reported."
     ]
    }
   ],
   "source": [
    "import cdsapi\n",
    "\n",
    "c = cdsapi.Client()\n",
    "\n",
    "c.retrieve(\n",
    "    'seasonal-postprocessed-single-levels',\n",
    "    {\n",
    "        'originating_centre':'ecmwf',\n",
    "        'system':'5',\n",
    "        'variable':'sea_surface_temperature_anomaly',\n",
    "        'product_type':'ensemble_mean',\n",
    "        'year':'2020',\n",
    "        'month':'06',\n",
    "        'leadtime_month':'3',\n",
    "        'format':'netcdf'\n",
    "    },\n",
    "    '../../data/sst.nc')"
   ]
  },
  {
   "cell_type": "code",
   "execution_count": null,
   "metadata": {},
   "outputs": [],
   "source": []
  }
 ],
 "metadata": {
  "kernelspec": {
   "display_name": "Python 3",
   "language": "python",
   "name": "python3"
  },
  "language_info": {
   "codemirror_mode": {
    "name": "ipython",
    "version": 3
   },
   "file_extension": ".py",
   "mimetype": "text/x-python",
   "name": "python",
   "nbconvert_exporter": "python",
   "pygments_lexer": "ipython3",
   "version": "3.7.6"
  }
 },
 "nbformat": 4,
 "nbformat_minor": 4
}
